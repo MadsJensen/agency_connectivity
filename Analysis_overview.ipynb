{
 "cells": [
  {
   "cell_type": "markdown",
   "metadata": {
    "ein.tags": [
     "worksheet-0"
    ]
   },
   "source": [
    "# Settings (These should be changed to fit your system)"
   ]
  },
  {
   "cell_type": "code",
   "execution_count": null,
   "metadata": {
    "autoscroll": "json-false",
    "collapsed": false,
    "ein.tags": [
     "worksheet-0"
    ]
   },
   "outputs": [],
   "source": [
    "data_folder = \"/home/mje/Projects/agency_connectivity/data/test/\"  #Set the path to the data\n",
    "scripts_folder  = \"/home/mje/Projects/agency_connectivity\"  #Set the path to the scripts"
   ]
  },
  {
   "cell_type": "code",
   "execution_count": null,
   "metadata": {
    "autoscroll": "json-false",
    "collapsed": false,
    "ein.tags": [
     "worksheet-0"
    ]
   },
   "outputs": [],
   "source": [
    "import mne\n",
    "import matplotlib.pyplot as plt \n",
    "import numpy as np\n",
    "import seaborn as sns\n",
    "import os\n",
    "\n",
    "%matplotlib qt\n",
    "# change \"qt\" to \"inline\" for the figures to be place in the notebook"
   ]
  },
  {
   "cell_type": "code",
   "execution_count": null,
   "metadata": {
    "autoscroll": "json-false",
    "collapsed": false,
    "ein.tags": [
     "worksheet-0"
    ]
   },
   "outputs": [],
   "source": [
    "os.chdir(scripts_folder)"
   ]
  },
  {
   "cell_type": "markdown",
   "metadata": {},
   "source": [
    "## Home made functions"
   ]
  },
  {
   "cell_type": "code",
   "execution_count": null,
   "metadata": {
    "autoscroll": "json-false",
    "collapsed": false,
    "ein.tags": [
     "worksheet-0"
    ]
   },
   "outputs": [],
   "source": [
    "from preprocessing import convert_bdf2fif, filter_raw, compute_ica, epoch_data, hilbert_process\n",
    "from tf_functions import morlet_analysis, single_trial_tf, calc_spatial_resolution, calc_wavelet_duration\n",
    "from connectivity_functions import ISPC_over_trials"
   ]
  },
  {
   "cell_type": "markdown",
   "metadata": {
    "ein.tags": [
     "worksheet-0"
    ]
   },
   "source": [
    "# Preprocessing data"
   ]
  },
  {
   "cell_type": "markdown",
   "metadata": {
    "ein.tags": [
     "worksheet-0"
    ]
   },
   "source": [
    "## Convert from bdf to fiff file (the mne format)"
   ]
  },
  {
   "cell_type": "code",
   "execution_count": null,
   "metadata": {
    "autoscroll": "json-false",
    "collapsed": false,
    "ein.tags": [
     "worksheet-0"
    ]
   },
   "outputs": [],
   "source": [
    "convert_bdf2fif(\"P2\", data_folder)"
   ]
  },
  {
   "cell_type": "markdown",
   "metadata": {
    "ein.tags": [
     "worksheet-0"
    ]
   },
   "source": [
    "## Filter data\n",
    "- The filter_raw function apply a bandpass from 1Hz to 98Hz"
   ]
  },
  {
   "cell_type": "code",
   "execution_count": null,
   "metadata": {
    "autoscroll": "json-false",
    "collapsed": true,
    "ein.tags": [
     "worksheet-0"
    ]
   },
   "outputs": [],
   "source": [
    "filter_raw(\"P2\", data_folder)"
   ]
  },
  {
   "cell_type": "markdown",
   "metadata": {
    "ein.tags": [
     "worksheet-0"
    ]
   },
   "source": [
    "## ICA\n",
    "Compute ICA and automactically remove the component with the highest correlation with the EOG channel (EXGF4)"
   ]
  },
  {
   "cell_type": "code",
   "execution_count": null,
   "metadata": {
    "autoscroll": "json-false",
    "collapsed": false,
    "ein.tags": [
     "worksheet-0"
    ]
   },
   "outputs": [],
   "source": [
    "compute_ica(\"P2\", data_folder)"
   ]
  },
  {
   "cell_type": "markdown",
   "metadata": {
    "ein.tags": [
     "worksheet-0"
    ]
   },
   "source": [
    "## Epocing"
   ]
  },
  {
   "cell_type": "code",
   "execution_count": null,
   "metadata": {
    "autoscroll": "json-false",
    "collapsed": true,
    "ein.tags": [
     "worksheet-0"
    ]
   },
   "outputs": [],
   "source": [
    "epoch_data(\"P2\", data_folder)"
   ]
  },
  {
   "cell_type": "code",
   "execution_count": null,
   "metadata": {
    "collapsed": true
   },
   "outputs": [],
   "source": [
    "epochs = mne.read_epochs(data_folder + \"P2_ds_bp_ica-epo.fif\")"
   ]
  },
  {
   "cell_type": "markdown",
   "metadata": {},
   "source": [
    "## Evoked"
   ]
  },
  {
   "cell_type": "code",
   "execution_count": null,
   "metadata": {
    "collapsed": true
   },
   "outputs": [],
   "source": [
    "evoked_vol.plot_joint(title=\"voluntary\", topomap_args={\"cmap\": \"viridis\"})"
   ]
  },
  {
   "cell_type": "code",
   "execution_count": null,
   "metadata": {
    "collapsed": false
   },
   "outputs": [],
   "source": [
    "evoked_inv.plot_joint(title=\"involuntary\", topomap_args={\"cmap\": \"viridis\"})"
   ]
  },
  {
   "cell_type": "markdown",
   "metadata": {
    "ein.tags": [
     "worksheet-0"
    ]
   },
   "source": [
    "# Time-frequency analysis"
   ]
  },
  {
   "cell_type": "code",
   "execution_count": null,
   "metadata": {
    "collapsed": false
   },
   "outputs": [],
   "source": [
    "# load epochs\n",
    "epochs = mne.read_epochs(data_folder + \"P2_ds_bp_ica-epo.fif\")"
   ]
  },
  {
   "cell_type": "code",
   "execution_count": null,
   "metadata": {
    "collapsed": false
   },
   "outputs": [],
   "source": [
    "tfr_vol, itc_vol = morlet_analysis(epochs[\"voluntary\"], n_cycles=4)\n",
    "tfr_invol, itc_invol = morlet_analysis(epochs[\"involuntary\"], n_cycles=4)"
   ]
  },
  {
   "cell_type": "code",
   "execution_count": null,
   "metadata": {
    "collapsed": false
   },
   "outputs": [],
   "source": [
    "print(\"vol max: %s \\ninvol max: %s\") % (tfr_vol.data.max(), tfr_invol.data.max())\n",
    "print(\"vol min: %s \\ninvol min: %s\") % (tfr_vol.data.min(), tfr_invol.data.min())"
   ]
  },
  {
   "cell_type": "markdown",
   "metadata": {},
   "source": [
    "## Plot results\n",
    "### Average power"
   ]
  },
  {
   "cell_type": "code",
   "execution_count": null,
   "metadata": {
    "collapsed": false
   },
   "outputs": [],
   "source": [
    "tfr_vol.plot_topo(baseline=(None, -1.8), mode=\"zscore\", cmap=\"viridis\", vmax=30, vmin=-30)"
   ]
  },
  {
   "cell_type": "code",
   "execution_count": null,
   "metadata": {
    "collapsed": false
   },
   "outputs": [],
   "source": [
    "tfr_invol.plot_topo(baseline=(None, -1.8), mode=\"zscore\", cmap=\"viridis\", vmax=30, vmin=-30)"
   ]
  },
  {
   "cell_type": "markdown",
   "metadata": {},
   "source": [
    "### Intertrial coherence"
   ]
  },
  {
   "cell_type": "code",
   "execution_count": null,
   "metadata": {
    "collapsed": false
   },
   "outputs": [],
   "source": [
    "itc_vol.plot_topo(cmap=\"viridis\", vmax=1, vmin=0)"
   ]
  },
  {
   "cell_type": "code",
   "execution_count": null,
   "metadata": {
    "collapsed": false
   },
   "outputs": [],
   "source": [
    "itc_invol.plot_topo(cmap=\"viridis\", vmax=1, vmin=0)"
   ]
  },
  {
   "cell_type": "markdown",
   "metadata": {},
   "source": [
    "## Make single trial Morlet transform of epochs\n",
    "The \"frequencies\", \"n_cycles\", and \"times\" are not used but for convinience when plotting etc."
   ]
  },
  {
   "cell_type": "code",
   "execution_count": null,
   "metadata": {
    "collapsed": false
   },
   "outputs": [],
   "source": [
    "frequencies = np.arange(6., 30., 1.)\n",
    "n_cycles = 5.\n",
    "times = epochs.times\n",
    "\n",
    "tfr_vol = single_trial_tf(epochs[\"voluntary\"], n_cycles=4)\n",
    "tfr_invol = single_trial_tf(epochs[\"involuntary\"], n_cycles=4)\n",
    "\n",
    "# convert to numpy array\n",
    "tfr_vol = np.asarray(tfr_vol)\n",
    "tfr_invol = np.asarray(tfr_invol)"
   ]
  },
  {
   "cell_type": "markdown",
   "metadata": {},
   "source": [
    "## Calculate spectral and temporal resolution of the Morlet wavelets\n",
    "\n",
    "From http://www.fieldtriptoolbox.org/tutorial/timefrequencyanalysis (Time-frequency analysis IV -- Morlet Wavelets). We get the **spectral bandwidth** is:\n",
    "\n",
    "$$\\frac{\\text{Frequency}}{\\text{number of cycles}}\\times2 = \\text{Spectral resolution Hz}$$"
   ]
  },
  {
   "cell_type": "code",
   "execution_count": null,
   "metadata": {
    "collapsed": false
   },
   "outputs": [],
   "source": [
    "frequencies = np.arange(6., 31., 1.)"
   ]
  },
  {
   "cell_type": "code",
   "execution_count": null,
   "metadata": {
    "collapsed": false
   },
   "outputs": [],
   "source": [
    "spectral_resolution_4 = calc_spatial_resolution(frequencies, n_cycles=4)\n",
    "spectral_resolution_5 = calc_spatial_resolution(frequencies, n_cycles=5)\n",
    "\n",
    "plt.figure()\n",
    "plt.plot(frequencies, spectral_resolution_4, label=\"4 cycles\")\n",
    "plt.plot(frequencies, spectral_resolution_5, label=\"5 cycles\")\n",
    "plt.ylabel(\"Spectral bandwidth (Hz)\")\n",
    "plt.xlabel(\"Frequencies\")\n",
    "plt.legend()\n",
    "plt.show()\n",
    "\n",
    "plt.figure()\n",
    "plt.plot(frequencies, spectral_resolution_4 - spectral_resolution_5)\n",
    "plt.ylabel(\"Spectral bandwidth Hz \")\n",
    "plt.xlabel(\"Frequencies\")\n",
    "plt.title(\"Difference: 4 cycles - 5 cycles\")\n",
    "plt.show()"
   ]
  },
  {
   "cell_type": "markdown",
   "metadata": {},
   "source": [
    "From http://www.fieldtriptoolbox.org/tutorial/timefrequencyanalysis (Time-frequency analysis IV -- Morlet Wavelets). We get the **wavelet duration** is:\n",
    "\n",
    "$$\\Bigg(\\frac{\\frac{\\text{Number of cycles}}{\\text{Frequency}}}{\\pi}\\Bigg)\\times 1000 = \\text{Wavelet duration (in miliseconds)}$$"
   ]
  },
  {
   "cell_type": "code",
   "execution_count": null,
   "metadata": {
    "collapsed": false
   },
   "outputs": [],
   "source": [
    "Wavelet_duration_4 = calc_wavelet_duration(frequencies, n_cycles=4)\n",
    "Wavelet_duration_5 = calc_wavelet_duration(frequencies, n_cycles=5)\n",
    "\n",
    "plt.figure()\n",
    "plt.plot(frequencies, Wavelet_duration_4, label=\"4 cycles\")\n",
    "plt.plot(frequencies, Wavelet_duration_5, label=\"5 cycles\")\n",
    "plt.ylabel(\"Wavelet duration (in ms)\")\n",
    "plt.xlabel(\"Frequencies\")\n",
    "plt.legend()\n",
    "plt.show()\n",
    "\n",
    "plt.figure()\n",
    "plt.plot(frequencies, Wavelet_duration_5 - Wavelet_duration_4, label=\"difference\")\n",
    "plt.ylabel(\"Wavelet duration (in ms)\")\n",
    "plt.xlabel(\"Frequencies\")\n",
    "plt.title(\"Difference: 5 cycles - 4 cycles\")\n",
    "plt.legend()\n",
    "plt.show()\n"
   ]
  },
  {
   "cell_type": "markdown",
   "metadata": {},
   "source": [
    "# Connectivity: ISPC"
   ]
  },
  {
   "cell_type": "markdown",
   "metadata": {},
   "source": [
    "## Calculate ISPC over trials "
   ]
  },
  {
   "cell_type": "code",
   "execution_count": null,
   "metadata": {
    "collapsed": false
   },
   "outputs": [],
   "source": [
    "chan_A, chan_B = 37, 47  # change for different channels\n",
    "freq_idx = 14  # change for another frequciency\n",
    "\n",
    "ispc_vol = ISPC_over_trials(tfr_vol, freqs=[2, 7], channels=[chan_A, chan_B], faverage=True)\n",
    "ispc_vol = ISPC_over_trials(tfr_invol, freqs=[2, 7], channels=[chan_A, chan_B], faverage=True)"
   ]
  },
  {
   "cell_type": "code",
   "execution_count": null,
   "metadata": {
    "autoscroll": "json-false",
    "collapsed": false,
    "ein.tags": [
     "worksheet-0"
    ]
   },
   "outputs": [],
   "source": [
    "plt.figure()\n",
    "plt.plot(times, ispc_vol, 'b', label=\"Voluntary\")\n",
    "plt.plot(times, ispc_vol, 'r', label=\"Involuntary\")\n",
    "plt.legend()\n",
    "plt.title(\"ISPC over time between %s and %s for freq: %s:%s\" % (epochs.ch_names[chan_A],\n",
    "                                                  epochs.ch_names[chan_B],\n",
    "                                                  frequencies[2], frequencies[7]))\n",
    "plt.show()\n",
    "\n"
   ]
  },
  {
   "cell_type": "markdown",
   "metadata": {
    "autoscroll": "json-false",
    "collapsed": false,
    "ein.tags": [
     "worksheet-0"
    ]
   },
   "source": [
    "## Calculate ISPC over time"
   ]
  },
  {
   "cell_type": "code",
   "execution_count": null,
   "metadata": {
    "collapsed": true
   },
   "outputs": [],
   "source": [
    "ispc_vol = np.empty(tfr_vol.shape[-1])\n",
    "ispc_invol = np.empty(tfr_invol.shape[-1])\n",
    "\n",
    "chan_A, chan_B = 37, 47  # change for different channels\n",
    "freq_idx = 14  # change for another frequciency\n",
    "\n",
    "for i in range(len(ispc_vol)):\n",
    "    ispc_vol[i] = np.abs(np.mean(np.exp(\n",
    "        1j*(np.angle(tfr_vol[:, chan_A, freq_idx, i]) -\n",
    "            np.angle(tfr_vol[:, chan_B, freq_idx, i])))))\n",
    "\n",
    "for i in range(len(ispc_invol)):\n",
    "    ispc_invol[i] = np.abs(np.mean(np.exp(\n",
    "        1j*(np.angle(tfr_invol[:, chan_A, freq_idx, i]) -\n",
    "            np.angle(tfr_invol[:, chan_B, freq_idx, i])))))"
   ]
  },
  {
   "cell_type": "code",
   "execution_count": null,
   "metadata": {
    "autoscroll": "json-false",
    "collapsed": false,
    "ein.tags": [
     "worksheet-0"
    ]
   },
   "outputs": [],
   "source": [
    "plt.figure()\n",
    "plt.plot(times, ispc_vol, 'b', label=\"Voluntary\")\n",
    "plt.plot(times, ispc_invol, 'r', label=\"Involuntary\")\n",
    "plt.legend()\n",
    "plt.title(\"ISPC over time between %s and %s for freq: %s:%s\" % (epochs.ch_names[chan_A],\n",
    "                                                  epochs.ch_names[chan_B],\n",
    "                                                  frequencies[2], frequencies[7]))\n",
    "plt.show()\n",
    "\n"
   ]
  },
  {
   "cell_type": "code",
   "execution_count": null,
   "metadata": {
    "collapsed": true
   },
   "outputs": [],
   "source": []
  },
  {
   "cell_type": "code",
   "execution_count": null,
   "metadata": {
    "collapsed": true
   },
   "outputs": [],
   "source": []
  },
  {
   "cell_type": "code",
   "execution_count": null,
   "metadata": {
    "collapsed": true
   },
   "outputs": [],
   "source": []
  },
  {
   "cell_type": "code",
   "execution_count": null,
   "metadata": {
    "collapsed": true
   },
   "outputs": [],
   "source": []
  },
  {
   "cell_type": "code",
   "execution_count": null,
   "metadata": {
    "collapsed": true
   },
   "outputs": [],
   "source": []
  },
  {
   "cell_type": "code",
   "execution_count": null,
   "metadata": {
    "collapsed": true
   },
   "outputs": [],
   "source": []
  },
  {
   "cell_type": "code",
   "execution_count": null,
   "metadata": {
    "collapsed": true
   },
   "outputs": [],
   "source": []
  }
 ],
 "metadata": {
  "kernelspec": {
   "display_name": "Python 2",
   "language": "python",
   "name": "python2"
  },
  "language_info": {
   "codemirror_mode": {
    "name": "ipython",
    "version": 2
   },
   "file_extension": ".py",
   "mimetype": "text/x-python",
   "name": "python",
   "nbconvert_exporter": "python",
   "pygments_lexer": "ipython2",
   "version": "2.7.11"
  },
  "name": "Analysis_overview.ipynb"
 },
 "nbformat": 4,
 "nbformat_minor": 0
}
